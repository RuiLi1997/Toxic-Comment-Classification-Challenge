{
 "cells": [
  {
   "cell_type": "code",
   "execution_count": 2,
   "id": "55c56596",
   "metadata": {},
   "outputs": [],
   "source": [
    "import pandas as pd\n",
    "import numpy as np\n",
    "import pickle\n",
    "from keras.preprocessing.sequence import pad_sequences\n",
    "import tensorflow as tf\n",
    "\n",
    "from sklearn.metrics import roc_auc_score"
   ]
  },
  {
   "cell_type": "code",
   "execution_count": 3,
   "id": "987c387f",
   "metadata": {},
   "outputs": [],
   "source": [
    "PADDING_LENGTH = 100"
   ]
  },
  {
   "cell_type": "code",
   "execution_count": 5,
   "id": "eccc51ad",
   "metadata": {},
   "outputs": [],
   "source": [
    "# loading tokenizer\n",
    "with open('models/RNN/rnn_tokenizer.pickle', 'rb') as handle:\n",
    "    tokenizer = pickle.load(handle)"
   ]
  },
  {
   "cell_type": "code",
   "execution_count": 7,
   "id": "486eda98",
   "metadata": {},
   "outputs": [],
   "source": [
    "# loading model\n",
    "model = tf.keras.models.load_model('models/RNN/my_rnn_model')"
   ]
  },
  {
   "cell_type": "code",
   "execution_count": 8,
   "id": "ce467acc",
   "metadata": {},
   "outputs": [],
   "source": [
    "test_data = pd.read_csv('dataset/cleaned_test.csv')\n",
    "\n",
    "test_text = test_data.comment_text\n",
    "\n",
    "\n",
    "test_label = pd.read_csv('dataset/test_labels.csv')"
   ]
  },
  {
   "cell_type": "code",
   "execution_count": 14,
   "id": "7c4c0087",
   "metadata": {},
   "outputs": [],
   "source": [
    "df1 = test_label.loc[test_label.toxic != -1]\n",
    "df2 = test_data\n",
    "df = pd.merge(df1, df2, how='left', on='id')\n",
    "columnsTitles = ['id','comment_text', 'toxic', 'severe_toxic', 'obscene', 'threat', 'insult',\n",
    "       'identity_hate']\n",
    "\n",
    "df = df.reindex(columns=columnsTitles)"
   ]
  },
  {
   "cell_type": "code",
   "execution_count": 15,
   "id": "b92860cf",
   "metadata": {},
   "outputs": [],
   "source": [
    "# test_text\n",
    "test_text = df.comment_text\n",
    "# test label processing\n",
    "test_labels = df.values[:,2:]\n",
    "test_labels = np.asarray(test_labels, dtype=int)\n",
    "\n",
    "x_test_clean = []\n",
    "for text in test_text:\n",
    "    x_test_clean.append(text)\n",
    "    \n",
    "\n",
    "    \n",
    "x_test_seq = tokenizer.texts_to_sequences(x_test_clean)\n",
    "x_test_pad = pad_sequences(x_test_seq, maxlen=PADDING_LENGTH)"
   ]
  },
  {
   "cell_type": "code",
   "execution_count": 17,
   "id": "29dbb57f",
   "metadata": {},
   "outputs": [
    {
     "name": "stdout",
     "output_type": "stream",
     "text": [
      "63978/63978 [==============================] - 37s 582us/sample - loss: 0.1442 - auc: 0.7493 - recall: 0.0000e+00 - precision: 0.0000e+00- loss: 0.1441 - auc: 0.7492 - recall: 0.0000e+00 - pre\n"
     ]
    }
   ],
   "source": [
    "# Evaluate the model on the test data\n",
    "results = model.evaluate(x_test_pad, test_labels, batch_size=128)"
   ]
  },
  {
   "cell_type": "code",
   "execution_count": 18,
   "id": "cd22d29b",
   "metadata": {},
   "outputs": [],
   "source": [
    "predict = model.predict(x_test_pad)"
   ]
  },
  {
   "cell_type": "code",
   "execution_count": 19,
   "id": "e3db720c",
   "metadata": {
    "scrolled": true
   },
   "outputs": [],
   "source": [
    " score = roc_auc_score(test_labels, predict)"
   ]
  },
  {
   "cell_type": "code",
   "execution_count": 20,
   "id": "cef8c90e",
   "metadata": {},
   "outputs": [
    {
     "name": "stdout",
     "output_type": "stream",
     "text": [
      "test_loss, test_acc, roc_auc_score: 0.1442 0.7493 0.5000\n"
     ]
    }
   ],
   "source": [
    "print(\"test_loss, test_acc, roc_auc_score:\", \"{:.4f}\".format(results[0]), \"{:.4f}\".format(results[1]), \"{:.4f}\".format(score))"
   ]
  },
  {
   "cell_type": "code",
   "execution_count": null,
   "id": "e38f900b",
   "metadata": {},
   "outputs": [],
   "source": []
  }
 ],
 "metadata": {
  "kernelspec": {
   "display_name": "Python 3",
   "language": "python",
   "name": "python3"
  },
  "language_info": {
   "codemirror_mode": {
    "name": "ipython",
    "version": 3
   },
   "file_extension": ".py",
   "mimetype": "text/x-python",
   "name": "python",
   "nbconvert_exporter": "python",
   "pygments_lexer": "ipython3",
   "version": "3.7.6"
  }
 },
 "nbformat": 4,
 "nbformat_minor": 5
}
