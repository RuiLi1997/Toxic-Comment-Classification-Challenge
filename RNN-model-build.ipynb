{
 "cells": [
  {
   "cell_type": "code",
   "execution_count": 14,
   "metadata": {
    "scrolled": true
   },
   "outputs": [],
   "source": [
    "import tensorflow as tf\n",
    "from tensorflow.keras import layers\n",
    "\n",
    "import pandas as pd\n",
    "import numpy as np\n",
    "from sklearn.model_selection import train_test_split\n",
    "\n",
    "from keras.preprocessing.text import Tokenizer\n",
    "from keras.preprocessing.sequence import pad_sequences\n",
    "from tensorflow.keras.models import Model\n",
    "import datetime\n",
    "import pickle\n"
   ]
  },
  {
   "cell_type": "code",
   "execution_count": 15,
   "metadata": {},
   "outputs": [
    {
     "data": {
      "text/plain": [
       "True"
      ]
     },
     "execution_count": 15,
     "metadata": {},
     "output_type": "execute_result"
    }
   ],
   "source": [
    "tf.test.is_gpu_available(\n",
    "    cuda_only=False, min_cuda_compute_capability=None\n",
    ")"
   ]
  },
  {
   "cell_type": "code",
   "execution_count": 16,
   "metadata": {},
   "outputs": [
    {
     "data": {
      "text/plain": [
       "'/device:GPU:0'"
      ]
     },
     "execution_count": 16,
     "metadata": {},
     "output_type": "execute_result"
    }
   ],
   "source": [
    "tf.test.gpu_device_name()"
   ]
  },
  {
   "cell_type": "code",
   "execution_count": 17,
   "metadata": {},
   "outputs": [],
   "source": [
    "train_set = pd.read_csv(\"dataset/rnn_cleaned_train.csv\")\n",
    "\n",
    "PADDING_LENGTH = 100\n",
    "embed_size = 50\n",
    "FEATURE_PATH = 'features/glove.6B.50d.txt'"
   ]
  },
  {
   "cell_type": "code",
   "execution_count": 18,
   "metadata": {},
   "outputs": [],
   "source": [
    "def create_embedding_matrix(word_index, filename):\n",
    "    words_nb = len(word_index)\n",
    "    embeddings_index = dict()\n",
    "    with open(filename, 'rb') as f:\n",
    "        for line in f:\n",
    "            values = line.split()\n",
    "            word = values[0]\n",
    "            coefs = np.asarray(values[1:], dtype='float32')\n",
    "            embeddings_index[word] = coefs\n",
    "    \n",
    "    # create a weight matrix for words in training docs\n",
    "    embedding_matrix = np.zeros((words_nb+1, 50))\n",
    "    for word, i in word_index.items():\n",
    "        embedding_vector = embeddings_index.get(word)\n",
    "        if embedding_vector is not None:\n",
    "            embedding_matrix[i] = embedding_vector\n",
    "            \n",
    "    return embedding_matrix"
   ]
  },
  {
   "cell_type": "code",
   "execution_count": 19,
   "metadata": {},
   "outputs": [],
   "source": [
    "train_text = train_set.comment_text\n",
    "\n",
    "# train label processing\n",
    "train_labels = train_set.values[:,2:]\n",
    "train_labels = np.asarray(train_labels, dtype=int)\n",
    "\n",
    "x_train_clean, x_test_clean, y_train, y_test = train_test_split(train_text, train_labels, test_size=.2, shuffle=True)\n",
    "\n",
    "x_train_clean = x_train_clean.tolist()\n",
    "x_test_clean = x_test_clean.tolist()\n",
    "\n",
    "# Tokenize the comment_text\n",
    "tokenizer = Tokenizer()\n",
    "tokenizer.fit_on_texts(train_text.tolist())\n",
    "\n",
    "x_train_seq = tokenizer.texts_to_sequences(x_train_clean)\n",
    "x_train_pad = pad_sequences(x_train_seq, maxlen=PADDING_LENGTH)\n",
    "\n",
    "x_test_seq = tokenizer.texts_to_sequences(x_test_clean)\n",
    "x_test_pad = pad_sequences(x_test_seq, maxlen=PADDING_LENGTH)\n",
    "\n",
    "word_index = tokenizer.word_index\n",
    "\n",
    "max_features = len(word_index)+1"
   ]
  },
  {
   "cell_type": "code",
   "execution_count": 20,
   "metadata": {},
   "outputs": [],
   "source": [
    "embedding_matrix = create_embedding_matrix(word_index, FEATURE_PATH)"
   ]
  },
  {
   "cell_type": "code",
   "execution_count": 21,
   "metadata": {},
   "outputs": [],
   "source": [
    "with open('models/RNN/rnn_tokenizer.pickle', 'wb') as handle:\n",
    "    pickle.dump(tokenizer, handle, protocol=pickle.HIGHEST_PROTOCOL)"
   ]
  },
  {
   "cell_type": "code",
   "execution_count": 22,
   "metadata": {},
   "outputs": [],
   "source": [
    "tf.keras.backend.clear_session()"
   ]
  },
  {
   "cell_type": "code",
   "execution_count": 23,
   "metadata": {},
   "outputs": [],
   "source": [
    "inp = layers.Input(shape=(100, ))\n",
    "x = layers.Embedding(max_features, embed_size, weights=[embedding_matrix])(inp)\n",
    "x = layers.LSTM(60, return_sequences=True, name='lstm_layer')(x)\n",
    "x = layers.GlobalMaxPool1D()(x)\n",
    "x = layers.Dropout(0.1)(x)\n",
    "x = layers.Dense(50, activation=\"relu\")(x)\n",
    "x = layers.Dropout(0.1)(x)\n",
    "x = layers.Dense(6, activation=\"sigmoid\")(x)\n",
    "model = Model(inputs=inp, outputs=x)\n",
    "model.compile(loss='binary_crossentropy',\n",
    "              optimizer='adam',\n",
    "              metrics=[tf.keras.metrics.AUC(), \n",
    "                       tf.keras.metrics.Recall(), \n",
    "                       tf.keras.metrics.Precision()])"
   ]
  },
  {
   "cell_type": "code",
   "execution_count": 24,
   "metadata": {},
   "outputs": [
    {
     "data": {
      "text/plain": [
       "(127656, 100)"
      ]
     },
     "execution_count": 24,
     "metadata": {},
     "output_type": "execute_result"
    }
   ],
   "source": [
    "x_train_pad.shape"
   ]
  },
  {
   "cell_type": "code",
   "execution_count": 25,
   "metadata": {},
   "outputs": [
    {
     "name": "stdout",
     "output_type": "stream",
     "text": [
      "Train on 127656 samples, validate on 31915 samples\n",
      "Epoch 1/10\n",
      "127656/127656 [==============================] - 172s 1ms/sample - loss: 0.5149 - auc: 0.5022 - recall: 0.0000e+00 - precision: 0.0000e+00 - val_loss: 0.3810 - val_auc: 0.6407 - val_recall: 0.0000e+00 - val_precision: 0.0000e+00\n",
      "Epoch 2/10\n",
      "127656/127656 [==============================] - 175s 1ms/sample - loss: 0.3058 - auc: 0.5359 - recall: 0.0000e+00 - precision: 0.0000e+00 - val_loss: 0.2502 - val_auc: 0.7460 - val_recall: 0.0000e+00 - val_precision: 0.0000e+00\n",
      "Epoch 3/10\n",
      "127656/127656 [==============================] - 171s 1ms/sample - loss: 0.2172 - auc: 0.6108 - recall: 0.0000e+00 - precision: 0.0000e+00 - val_loss: 0.1934 - val_auc: 0.7409 - val_recall: 0.0000e+00 - val_precision: 0.0000e+00\n",
      "Epoch 4/10\n",
      "127656/127656 [==============================] - 171s 1ms/sample - loss: 0.1777 - auc: 0.6992 - recall: 0.0000e+00 - precision: 0.0000e+00 - val_loss: 0.1673 - val_auc: 0.7460 - val_recall: 0.0000e+00 - val_precision: 0.0000e+00\n",
      "Epoch 5/10\n",
      "127656/127656 [==============================] - 171s 1ms/sample - loss: 0.1591 - auc: 0.7419 - recall: 0.0000e+00 - precision: 0.0000e+00 - val_loss: 0.1548 - val_auc: 0.7424 - val_recall: 0.0000e+00 - val_precision: 0.0000e+00\n",
      "Epoch 6/10\n",
      "127656/127656 [==============================] - 173s 1ms/sample - loss: 0.1499 - auc: 0.7467 - recall: 0.0000e+00 - precision: 0.0000e+00 - val_loss: 0.1485 - val_auc: 0.7424 - val_recall: 0.0000e+00 - val_precision: 0.0000e+00\n",
      "Epoch 7/10\n",
      "127656/127656 [==============================] - 170s 1ms/sample - loss: 0.1453 - auc: 0.7461 - recall: 0.0000e+00 - precision: 0.0000e+00 - val_loss: 0.1454 - val_auc: 0.7460 - val_recall: 0.0000e+00 - val_precision: 0.0000e+00\n",
      "Epoch 8/10\n",
      "127656/127656 [==============================] - 170s 1ms/sample - loss: 0.1428 - auc: 0.7473 - recall: 0.0000e+00 - precision: 0.0000e+00 - val_loss: 0.1438 - val_auc: 0.7475 - val_recall: 0.0000e+00 - val_precision: 0.0000e+00\n",
      "Epoch 9/10\n",
      "127656/127656 [==============================] - 171s 1ms/sample - loss: 0.1416 - auc: 0.7474 - recall: 0.0000e+00 - precision: 0.0000e+00 - val_loss: 0.1431 - val_auc: 0.7475 - val_recall: 0.0000e+00 - val_precision: 0.0000e+00\n",
      "Epoch 10/10\n",
      "127656/127656 [==============================] - 171s 1ms/sample - loss: 0.1411 - auc: 0.7503 - recall: 0.0000e+00 - precision: 0.0000e+00 - val_loss: 0.1428 - val_auc: 0.7475 - val_recall: 0.0000e+00 - val_precision: 0.0000e+00\n"
     ]
    }
   ],
   "source": [
    "model.fit(x_train_pad, y_train, batch_size=128, epochs=10, validation_data=(x_test_pad, y_test), shuffle=True)\n",
    "# Save the entire model as a SavedModel.\n",
    "model.save('models/RNN/my_rnn_model')"
   ]
  },
  {
   "cell_type": "code",
   "execution_count": 13,
   "metadata": {},
   "outputs": [],
   "source": [
    "model.save('models/RNN/my_rnn_model')"
   ]
  },
  {
   "cell_type": "code",
   "execution_count": null,
   "metadata": {},
   "outputs": [],
   "source": []
  }
 ],
 "metadata": {
  "kernelspec": {
   "display_name": "Python 3",
   "language": "python",
   "name": "python3"
  },
  "language_info": {
   "codemirror_mode": {
    "name": "ipython",
    "version": 3
   },
   "file_extension": ".py",
   "mimetype": "text/x-python",
   "name": "python",
   "nbconvert_exporter": "python",
   "pygments_lexer": "ipython3",
   "version": "3.7.6"
  }
 },
 "nbformat": 4,
 "nbformat_minor": 4
}
